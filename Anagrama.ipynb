{
 "cells": [
  {
   "cell_type": "code",
   "execution_count": 1,
   "metadata": {},
   "outputs": [
    {
     "name": "stdout",
     "output_type": "stream",
     "text": [
      "true\n",
      "\n"
     ]
    }
   ],
   "source": [
    "N = ['AUTOR',\n",
    "    'OUTRA']\n",
    "n0 = N[0]\n",
    "n1 = N[1]\n",
    "a = []\n",
    "b = []\n",
    "\n",
    "for i in range(len(n0)):\n",
    "    a.append(n0[i])\n",
    "a.sort()\n",
    "\n",
    "for i in range(len(n1)):\n",
    "    b.append(n1[i])\n",
    "b.sort()\n",
    "\n",
    "teste = 'true'\n",
    "if a != b:\n",
    "    teste = 'false'\n",
    "print(teste + '\\n')"
   ]
  },
  {
   "cell_type": "code",
   "execution_count": 2,
   "metadata": {},
   "outputs": [
    {
     "name": "stdout",
     "output_type": "stream",
     "text": [
      "false\n",
      "\n"
     ]
    }
   ],
   "source": [
    "N = ['AUTOR',\n",
    "    'OUTRORA']\n",
    "n0 = N[0]\n",
    "n1 = N[1]\n",
    "a = []\n",
    "b = []\n",
    "\n",
    "for i in range(len(n0)):\n",
    "    a.append(n0[i])\n",
    "a.sort()\n",
    "\n",
    "for i in range(len(n1)):\n",
    "    b.append(n1[i])\n",
    "b.sort()\n",
    "\n",
    "teste = 'true'\n",
    "if a != b:\n",
    "    teste = 'false'\n",
    "print(teste + '\\n')"
   ]
  },
  {
   "cell_type": "code",
   "execution_count": null,
   "metadata": {
    "collapsed": true
   },
   "outputs": [],
   "source": []
  }
 ],
 "metadata": {
  "kernelspec": {
   "display_name": "Python 3",
   "language": "python",
   "name": "python3"
  },
  "language_info": {
   "codemirror_mode": {
    "name": "ipython",
    "version": 3
   },
   "file_extension": ".py",
   "mimetype": "text/x-python",
   "name": "python",
   "nbconvert_exporter": "python",
   "pygments_lexer": "ipython3",
   "version": "3.6.1"
  }
 },
 "nbformat": 4,
 "nbformat_minor": 2
}
